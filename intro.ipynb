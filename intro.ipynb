{
  "nbformat": 4,
  "nbformat_minor": 0,
  "metadata": {
    "colab": {
      "name": "intro.ipynb",
      "provenance": [],
      "collapsed_sections": [],
      "authorship_tag": "ABX9TyNdUMPdZTvRg3GPmRvbSxyA",
      "include_colab_link": true
    },
    "kernelspec": {
      "name": "python3",
      "display_name": "Python 3"
    },
    "language_info": {
      "name": "python"
    }
  },
  "cells": [
    {
      "cell_type": "markdown",
      "metadata": {
        "id": "view-in-github",
        "colab_type": "text"
      },
      "source": [
        "<a href=\"https://colab.research.google.com/github/Amankhalsa/intro_python/blob/main/intro.ipynb\" target=\"_parent\"><img src=\"https://colab.research.google.com/assets/colab-badge.svg\" alt=\"Open In Colab\"/></a>"
      ]
    },
    {
      "cell_type": "markdown",
      "metadata": {
        "id": "UclJdZFKmCk-"
      },
      "source": [
        "# Intro of python\n",
        "# **What is Python?**\n",
        "\n",
        "Python is a popular programming language. It was created by Guido van Rossum, and released in 1991.\n",
        "\n",
        "**It is used for:**\n",
        "*   **web development (server-side),**\n",
        "*   **software development,**\n",
        "*   **mathematics,**\n",
        "*   **system scripting.**\n",
        "\n",
        "# **What can Python do?**\n",
        "\n",
        "* Python can be used on a server to create web applications.\n",
        "\n",
        "* Python can be used alongside software to create workflows.\n",
        "\n",
        "* Python can connect to database systems. It can also read and modify files.\n",
        "\n",
        "* Python can be used to handle big data and perform complex mathematics.\n",
        "\n",
        "* Python can be used for rapid prototyping, or for production-ready software development.\n",
        "\n",
        "# Why Python?\n",
        "* Python works on different platforms (Windows, Mac, Linux, Raspberry Pi, etc).\n",
        "* Python has a simple syntax similar to the English language.\n",
        "Python has syntax that allows developers to write programs with fewer lines than some other programming languages.\n",
        "* Python runs on an interpreter system, meaning that code can be executed as soon as it is written. This means that prototyping can be very quick.\n",
        "* Python can be treated in a procedural way, an object-oriented way or a functional way.\n",
        "# Good to know\n",
        "* The most recent major version of Python is Python 3, which we shall be using in this tutorial. \n",
        "* However, Python 2, although not being updated with anything other than security updates, is still quite popular.\n",
        "* In this tutorial Python will be written in a text editor. * It is possible to write Python in an Integrated Development Environment, such as Thonny, Pycharm, Netbeans or Eclipse which are particularly useful when managing larger collections of Python files.\n",
        "# Python Syntax compared to other programming languages\n",
        "* Python was designed for readability, and has some similarities to the English language with influence from mathematics.\n",
        "* Python uses new lines to complete a command, as opposed to other programming languages which often use semicolons or parentheses.\n",
        "* Python relies on indentation, using whitespace, to define scope; such as the scope of loops, functions and classes. Other programming languages often use curly-brackets for this purpose."
      ]
    },
    {
      "cell_type": "markdown",
      "metadata": {
        "id": "ted9UFL2o3fn"
      },
      "source": [
        "# Python Getting Started\n",
        "# Python Install\n",
        "* Many PCs and Macs will have python already installed.\n",
        "\n",
        "* To check if you have python installed on a Windows PC, search in the start bar for Python or run the following on the Command Line (cmd.exe):\n",
        "* C:\\Users\\Your Name>python --version\n",
        "# Python Quickstart\n",
        "* Python is an interpreted programming language, this means that as a developer you write Python (.py) files in a text editor and then put those files into the python interpreter to be executed.\n",
        "\n",
        "* The way to run a python file is like this on the command line:\n",
        "\n",
        "* C:\\Users\\Your Name>python helloworld.py\n",
        "# we can run  Python code  Command Line\n",
        "* C:\\Users\\Your Name>python filename.py\n",
        "\n",
        "* Whenever you are done in the python command line, you can simply type the following to quit the python command line interface:\n",
        "\n",
        "* exit()"
      ]
    },
    {
      "cell_type": "markdown",
      "metadata": {
        "id": "tnxNu--lqJMS"
      },
      "source": [
        "# Execute Python Syntax\n",
        "As we learned in the previous page, Python syntax can be executed by writing directly in the Command Line:\n",
        "\n",
        "* \n",
        "\n",
        "# Python Indentation\n",
        "* Indentation refers to the spaces at the beginning of a code line.\n",
        "\n",
        "* Where in other programming languages the indentation in code is for readability only, the indentation in Python is very important.\n",
        "\n",
        "* Python uses indentation to indicate a block of code.\n"
      ]
    },
    {
      "cell_type": "code",
      "metadata": {
        "colab": {
          "base_uri": "https://localhost:8080/"
        },
        "id": "YlJY5mM4usM8",
        "outputId": "3517b630-aa8c-4dfa-c1c7-cfc4de68c261"
      },
      "source": [
        "print(\"Hello, World!\")\n"
      ],
      "execution_count": 4,
      "outputs": [
        {
          "output_type": "stream",
          "text": [
            "Hello, World!\n"
          ],
          "name": "stdout"
        }
      ]
    },
    {
      "cell_type": "markdown",
      "metadata": {
        "id": "qTbzB58DkpJI"
      },
      "source": [
        "# First hello print in python"
      ]
    },
    {
      "cell_type": "code",
      "metadata": {
        "id": "5XNR3C5xsH6_"
      },
      "source": [
        "print(\"Hello, World!\")"
      ],
      "execution_count": null,
      "outputs": []
    },
    {
      "cell_type": "markdown",
      "metadata": {
        "id": "6J84pDgSrBj4"
      },
      "source": [
        "# Python Syntax"
      ]
    },
    {
      "cell_type": "code",
      "metadata": {
        "id": "vE9SI9bSqoQj"
      },
      "source": [
        "#Python Syntax\n",
        "if 5 > 2:\n",
        "    print(\"Five is greater than two!\")\n",
        "\n",
        "#if you write like this Syntax Error:\n",
        "//if 5 > 2:\n",
        "//print(\"Five is greater than two!\")"
      ],
      "execution_count": null,
      "outputs": []
    },
    {
      "cell_type": "code",
      "metadata": {
        "colab": {
          "base_uri": "https://localhost:8080/"
        },
        "id": "1i-IrBEdQSb0",
        "outputId": "6e35e64e-02b7-4329-b87b-55f40cf00e42"
      },
      "source": [
        "# a=9 //a is variable 9 is value of variable\n",
        "# b=5\n",
        "# c=a+b\n",
        "# print(c)\n",
        "print(\"hello\")\n",
        "list =[1,2,3,4,5] #this is a list \n",
        "print(list)\n",
        "my_tup=(1,\"a\",2,\"b\",3) #tuple\n",
        "print(my_tup)\n",
        "my_dict={\"name\":\"john\",\"age\":28} #dictonary\n",
        "print(my_dict)\n",
        "my_set={1,2,3,2,1,4,3,2,5,7} #set \n",
        "print(\"Printed order wise no duplicate \",my_set)"
      ],
      "execution_count": null,
      "outputs": [
        {
          "output_type": "stream",
          "text": [
            "hello\n",
            "[1, 2, 3, 4, 5]\n",
            "(1, 'a', 2, 'b', 3)\n",
            "{'name': 'john', 'age': 28}\n",
            "Printed order wise no duplicate  {1, 2, 3, 4, 5, 7}\n"
          ],
          "name": "stdout"
        }
      ]
    },
    {
      "cell_type": "markdown",
      "metadata": {
        "id": "y_P7Lq0ssfzf"
      },
      "source": [
        "# Python Comments\n",
        "* Comments can be used to explain Python code.\n",
        "* Comments can be used to make the code more readable.\n",
        "* Comments can be used to prevent execution when testing code.\n",
        "* Creating a Comment\n",
        "* Comments starts with a #, and Python will ignore them:\n",
        "# Comments in python "
      ]
    },
    {
      "cell_type": "code",
      "metadata": {
        "colab": {
          "base_uri": "https://localhost:8080/"
        },
        "id": "ZLD6vM22vCO4",
        "outputId": "ec037c38-258c-4dc6-dca5-d7531d43ba84"
      },
      "source": [
        "# thisis a comment \n",
        "\n",
        "\"\"\"This\n",
        "is \n",
        "a  \n",
        " multiline  comment\"\"\"\n",
        "print(\"Hello pyhton world !\")  #This is a comment"
      ],
      "execution_count": 6,
      "outputs": [
        {
          "output_type": "stream",
          "text": [
            "Hello pyhton world !\n"
          ],
          "name": "stdout"
        }
      ]
    },
    {
      "cell_type": "markdown",
      "metadata": {
        "id": "Ag0-aCjatC_4"
      },
      "source": [
        "#Multi Line Comments\n",
        "* Python does not really have a syntax for multi line comments.\n",
        "\n",
        "* To add a multiline comment you could insert a # for each line:"
      ]
    },
    {
      "cell_type": "code",
      "metadata": {
        "colab": {
          "base_uri": "https://localhost:8080/"
        },
        "id": "J2bKZVk7tNCs",
        "outputId": "612f22f2-6753-4eab-996d-6138c5696d7c"
      },
      "source": [
        "#This is a comment\n",
        "#written in\n",
        "#more than just one line\n",
        "print(\"Hello, World!\")\n",
        "\n",
        "#2nd example\n",
        "\"\"\"\n",
        "This is a comment\n",
        "written in\n",
        "more than just one line\n",
        "\"\"\"\n",
        "print(\"Hello, World!\")"
      ],
      "execution_count": 7,
      "outputs": [
        {
          "output_type": "stream",
          "text": [
            "Hello, World!\n",
            "Hello, World!\n"
          ],
          "name": "stdout"
        }
      ]
    },
    {
      "cell_type": "markdown",
      "metadata": {
        "id": "Wcl69XAotrxC"
      },
      "source": [
        "# Python Variables\n",
        "Variables\n",
        "* Variables are containers for storing data values.\n",
        "\n",
        "* Creating Variables\n",
        "* Python has no command for declaring a variable.\n",
        "\n",
        "*A variable is created the moment you first assign a value to it."
      ]
    },
    {
      "cell_type": "code",
      "metadata": {
        "colab": {
          "base_uri": "https://localhost:8080/"
        },
        "id": "cPafz_SXt7QC",
        "outputId": "6d739b20-f146-4a60-d914-f6937fab5694"
      },
      "source": [
        "x = 5\n",
        "y = \"John\"\n",
        "print(x)\n",
        "print(y)"
      ],
      "execution_count": 8,
      "outputs": [
        {
          "output_type": "stream",
          "text": [
            "5\n",
            "John\n"
          ],
          "name": "stdout"
        }
      ]
    },
    {
      "cell_type": "code",
      "metadata": {
        "colab": {
          "base_uri": "https://localhost:8080/"
        },
        "id": "ck2ytntYwAtn",
        "outputId": "0807025c-c6e6-465c-9c8d-136071363551"
      },
      "source": [
        "#2nd example \n",
        "print(\"Hi\")\n",
        "# Variable in Python:\n",
        "# abc = \"It's a string variable\"\n",
        "# abcnum = 40 # It is an example of int variable\n",
        "# abc123 = 55.854 # It is an example of float variable\n",
        "# print(abcnum + abc123) # This will give sum of 40 + 55.854\n",
        "# print(type(abc))\n",
        "# print(abc)\n",
        "# num1=23\n",
        "# num2=55\n",
        "# print(int(num1)+int(num2))\n",
        "\n",
        "'''\n",
        "quiz1 : \n",
        "# '''\n",
        "# AB= input(\"Enter number :\")\n",
        "# print(AB)\n",
        "print(\"calculator\")\n",
        "x=input(\"enter num1:\")\n",
        "x=int(x)\n",
        "y=input(\"enter num2:\")\n",
        "y=int(y)\n",
        "z=x+y\n",
        "print(\"Answer is :\", z)"
      ],
      "execution_count": 12,
      "outputs": [
        {
          "output_type": "stream",
          "text": [
            "Hi\n",
            "calculator\n",
            "enter num1:4\n",
            "enter num2:5\n",
            "Answer is : 9\n"
          ],
          "name": "stdout"
        }
      ]
    }
  ]
}