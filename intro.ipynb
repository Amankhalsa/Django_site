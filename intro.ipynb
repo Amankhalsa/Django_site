{
  "nbformat": 4,
  "nbformat_minor": 0,
  "metadata": {
    "colab": {
      "name": "intro.ipynb",
      "provenance": [],
      "collapsed_sections": [
        "tnxNu--lqJMS",
        "6J84pDgSrBj4"
      ],
      "toc_visible": true,
      "authorship_tag": "ABX9TyO3uDNRLUvYyiyWkNOM3fNe",
      "include_colab_link": true
    },
    "kernelspec": {
      "name": "python3",
      "display_name": "Python 3"
    },
    "language_info": {
      "name": "python"
    }
  },
  "cells": [
    {
      "cell_type": "markdown",
      "metadata": {
        "id": "view-in-github",
        "colab_type": "text"
      },
      "source": [
        "<a href=\"https://colab.research.google.com/github/Amankhalsa/intro_python/blob/main/intro.ipynb\" target=\"_parent\"><img src=\"https://colab.research.google.com/assets/colab-badge.svg\" alt=\"Open In Colab\"/></a>"
      ]
    },
    {
      "cell_type": "markdown",
      "metadata": {
        "id": "UclJdZFKmCk-"
      },
      "source": [
        "# Intro of python\n",
        "# **What is Python?**\n",
        "\n",
        "Python is a popular programming language. It was created by Guido van Rossum, and released in 1991.\n",
        "\n",
        "**It is used for:**\n",
        "*   **web development (server-side),**\n",
        "*   **software development,**\n",
        "*   **mathematics,**\n",
        "*   **system scripting.**\n",
        "\n",
        "# Who used python language \n",
        "* NASA \n",
        "* Youtube\n",
        "* Yahoo\n",
        "* Instagram \n",
        "* Pinterest\n",
        "* Google\n",
        "* Facebook \n",
        "* IBM \n",
        "* dropbox\n",
        "* Mozilla\n",
        "\n",
        "# Top 10 Programming Languages for 2021\n",
        "* Python\n",
        "* JavaScript\n",
        "* Java\n",
        "* C++\n",
        "* GoLang\n",
        "* C#\n",
        "* SQL\n",
        "* Dart\n",
        "* R\n",
        "* PHP\n",
        "# **What can Python do?**\n",
        "\n",
        "* Python can be used on a server to create web applications.\n",
        "\n",
        "* Python can be used alongside software to create workflows.\n",
        "\n",
        "* Python can connect to database systems. It can also read and modify files.\n",
        "\n",
        "* Python can be used to handle big data and perform complex mathematics.\n",
        "\n",
        "* Python can be used for rapid prototyping, or for production-ready software development.\n",
        "\n",
        "# Why Python?\n",
        "* Python works on different platforms (Windows, Mac, Linux, Raspberry Pi, etc).\n",
        "* Python has a simple syntax similar to the English language.\n",
        "Python has syntax that allows developers to write programs with fewer lines than some other programming languages.\n",
        "* Python runs on an interpreter system, meaning that code can be executed as soon as it is written. This means that prototyping can be very quick.\n",
        "* Python can be treated in a procedural way, an object-oriented way or a functional way.\n",
        "\n",
        "# Python Syntax compared to other programming languages\n",
        "* Python was designed for readability, and has some similarities to the English language with influence from mathematics.\n",
        "* Python uses new lines to complete a command, as opposed to other programming languages which often use semicolons or parentheses.\n",
        "* Python relies on indentation, using whitespace, to define scope; such as the scope of loops, functions and classes. Other programming languages often use curly-brackets for this purpose.\n",
        "\n",
        "# Features in Python\n",
        "* Easy to code: Python is a high-level programming language. ...\n",
        "* Free and Open Source: ...\n",
        "* Object-Oriented Language: ...\n",
        "* GUI Programming Support: ...\n",
        "* Cross platform lanuage \n",
        "* High-Level Language: ...\n",
        "* Extensible feature: ...\n",
        "* Python is Portable language: ...\n",
        "* Python is Integrated language\n",
        "* Interpreted Language:\n",
        "* Large Standard Library\n",
        "* Python has a large standard library which provides a rich set of module and functions etc.\n",
        "* Dynamically Typed Language:\n",
        "[>>More About:](https://www.geeksforgeeks.org/python-features/)\n",
        "\n",
        "# versions of python \n",
        "*\tPython Version  Released Date\n",
        "*\tPython 1.0  January 1994\n",
        "*\tPython 1.5  December 31, 1997\n",
        "*\tPython 1.6  September 5, 2000\n",
        "*\tPython 2.0  October 16, 2000\n",
        "*\tPython 2.1  April 17, 2001\n",
        "*\tPython 2.2  December 21, 2001\n",
        "*\tPython 2.3  July 29, 2003\n",
        "*\tPython 2.4  November 30, 2004\n",
        "*\tPython 2.5  September 19, 2006\n",
        "*\tPython 2.6  October 1, 2008\n",
        "*\tPython 2.7  July 3, 2010\n",
        "*\tPython 3.0  December 3, 2008\n",
        "*\tPython 3.1  June 27, 2009\n",
        "*\tPython 3.2  February 20, 2011\n",
        "*\tPython 3.3  September 29, 2012\n",
        "*\tPython 3.4  March 16, 2014\n",
        "*\tPython 3.5  September 13, 2015\n",
        "*\tPython 3.6  December 23, 2016\n",
        "*\tPython 3.7  June 27, 2018\n",
        "*\tPython 3.8  October 14, 2019\n",
        "[>>Read more](https://www.javatpoint.com/python-history)\n",
        "\n",
        "* [web link:](https://www.tutorialspoint.com/python/index.htm)\n",
        "![python.PNG](data:image/png;base64,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)"
      ]
    },
    {
      "cell_type": "markdown",
      "metadata": {
        "id": "ted9UFL2o3fn"
      },
      "source": [
        "# Python Getting Started\n",
        "# Python Install\n",
        "[Python official website link:](https://www.python.org/)\n",
        "[Download link](https://www.python.org/downloads/)\n",
        "* Many PCs and Macs will have python already installed.\n",
        "\n",
        "* To check if you have python installed on a Windows PC, search in the start bar for Python or run the following on the Command Line (cmd.exe):\n",
        "* C:\\Users\\Your Name>python --version\n",
        "# Python Quickstart\n",
        "* Python is an interpreted programming language, this means that as a developer you write Python (.py) files in a text editor and then put those files into the python interpreter to be executed.\n",
        "\n",
        "* The way to run a python file is like this on the command line:\n",
        "\n",
        "* C:\\Users\\Your Name>python helloworld.py\n",
        "# we can run  Python code  Command Line\n",
        "* C:\\Users\\Your Name>python filename.py\n",
        "\n",
        "* Whenever you are done in the python command line, you can simply type the following to quit the python command line interface:\n",
        "\n",
        "* exit()"
      ]
    },
    {
      "cell_type": "markdown",
      "metadata": {
        "id": "tnxNu--lqJMS"
      },
      "source": [
        "# Execute Python Syntax\n",
        "As we learned in the previous page, Python syntax can be executed by writing directly in the Command Line:\n",
        "\n",
        "* \n",
        "\n",
        "# Python Indentation\n",
        "* Indentation refers to the spaces at the beginning of a code line.\n",
        "\n",
        "* Where in other programming languages the indentation in code is for readability only, the indentation in Python is very important.\n",
        "\n",
        "* Python uses indentation to indicate a block of code.\n"
      ]
    },
    {
      "cell_type": "code",
      "metadata": {
        "colab": {
          "base_uri": "https://localhost:8080/"
        },
        "id": "YlJY5mM4usM8",
        "outputId": "95553e87-02dc-45e9-d4ac-2cf038d88c5b"
      },
      "source": [
        "print(\"Hello, python  World! \")\n"
      ],
      "execution_count": null,
      "outputs": [
        {
          "output_type": "stream",
          "text": [
            "Hello, python  World! \n"
          ],
          "name": "stdout"
        }
      ]
    },
    {
      "cell_type": "markdown",
      "metadata": {
        "id": "qTbzB58DkpJI"
      },
      "source": [
        "# First hello print in python"
      ]
    },
    {
      "cell_type": "code",
      "metadata": {
        "colab": {
          "base_uri": "https://localhost:8080/"
        },
        "id": "5XNR3C5xsH6_",
        "outputId": "b9dbddd5-2e36-44f2-8589-b536420c0982"
      },
      "source": [
        "print(\"Hello, World!\")"
      ],
      "execution_count": null,
      "outputs": [
        {
          "output_type": "stream",
          "text": [
            "Hello, World!\n"
          ],
          "name": "stdout"
        }
      ]
    },
    {
      "cell_type": "markdown",
      "metadata": {
        "id": "6J84pDgSrBj4"
      },
      "source": [
        "# Python Syntax"
      ]
    },
    {
      "cell_type": "code",
      "metadata": {
        "colab": {
          "base_uri": "https://localhost:8080/"
        },
        "id": "vE9SI9bSqoQj",
        "outputId": "7d8d8436-19fe-4b3f-de4f-634ab093e1df"
      },
      "source": [
        "#Python Syntax\n",
        "if 5 > 2:\n",
        "  print(\"Five is greater than two!\")\n",
        "else:\n",
        "  \n",
        "  print(\"no 5 is less then number\")\n",
        "#if you write like this Syntax Error:\n",
        "#if 5 > 2:\n",
        "#print(\"Five is greater than two!\")"
      ],
      "execution_count": null,
      "outputs": [
        {
          "output_type": "stream",
          "text": [
            "Five is greater than two!\n"
          ],
          "name": "stdout"
        }
      ]
    },
    {
      "cell_type": "code",
      "metadata": {
        "colab": {
          "base_uri": "https://localhost:8080/"
        },
        "id": "1i-IrBEdQSb0",
        "outputId": "6e35e64e-02b7-4329-b87b-55f40cf00e42"
      },
      "source": [
        "# a is variable 9 is value of variable\n",
        "# a=9 \n",
        "# b=5\n",
        "# c=a+b\n",
        "# print(c)\n",
        "print(\"hello\")\n",
        "# we will discus next lecture about this below code \n",
        "\n",
        "list =[1,2,3,4,5]                 #this is a list \n",
        "print(list)\n",
        "my_tup=(1,\"a\",2,\"b\",3)            #tuple\n",
        "print(my_tup)\n",
        "my_dict={\"name\":\"john\",\"age\":28}  #dictonary\n",
        "print(my_dict)\n",
        "my_set={1,2,3,2,1,4,3,2,5,7}      #set \n",
        "print(\"Printed order wise no duplicate \",my_set)"
      ],
      "execution_count": null,
      "outputs": [
        {
          "output_type": "stream",
          "text": [
            "hello\n",
            "[1, 2, 3, 4, 5]\n",
            "(1, 'a', 2, 'b', 3)\n",
            "{'name': 'john', 'age': 28}\n",
            "Printed order wise no duplicate  {1, 2, 3, 4, 5, 7}\n"
          ],
          "name": "stdout"
        }
      ]
    },
    {
      "cell_type": "markdown",
      "metadata": {
        "id": "y_P7Lq0ssfzf"
      },
      "source": [
        "# Python Comments\n",
        "* Comments can be used to explain Python code.\n",
        "* Comments can be used to make the code more readable.\n",
        "* Comments can be used to prevent execution when testing code.\n",
        "* Creating a Comment\n",
        "* Comments starts with a #, and Python will ignore them:\n",
        "# Comments in python "
      ]
    },
    {
      "cell_type": "code",
      "metadata": {
        "colab": {
          "base_uri": "https://localhost:8080/"
        },
        "id": "ZLD6vM22vCO4",
        "outputId": "ec037c38-258c-4dc6-dca5-d7531d43ba84"
      },
      "source": [
        "# thisis a comment \n",
        "\n",
        "\"\"\"This\n",
        "is \n",
        "a  \n",
        " multiline  comment\"\"\"\n",
        "print(\"Hello pyhton world !\")  #This is a comment"
      ],
      "execution_count": null,
      "outputs": [
        {
          "output_type": "stream",
          "text": [
            "Hello pyhton world !\n"
          ],
          "name": "stdout"
        }
      ]
    },
    {
      "cell_type": "markdown",
      "metadata": {
        "id": "Ag0-aCjatC_4"
      },
      "source": [
        "#Multi Line Comments\n",
        "* Python does not really have a syntax for multi line comments.\n",
        "\n",
        "* To add a multiline comment you could insert a # for each line:"
      ]
    },
    {
      "cell_type": "code",
      "metadata": {
        "colab": {
          "base_uri": "https://localhost:8080/"
        },
        "id": "J2bKZVk7tNCs",
        "outputId": "612f22f2-6753-4eab-996d-6138c5696d7c"
      },
      "source": [
        "#This is a comment\n",
        "#written in\n",
        "#more than just one line\n",
        "print(\"Hello, World!\")\n",
        "\n",
        "#2nd example\n",
        "\"\"\"\n",
        "This is a comment\n",
        "written in\n",
        "more than just one line\n",
        "\"\"\"\n",
        "print(\"Hello, World!\")"
      ],
      "execution_count": null,
      "outputs": [
        {
          "output_type": "stream",
          "text": [
            "Hello, World!\n",
            "Hello, World!\n"
          ],
          "name": "stdout"
        }
      ]
    },
    {
      "cell_type": "markdown",
      "metadata": {
        "id": "Wcl69XAotrxC"
      },
      "source": [
        "# Python Variables\n",
        "Variables\n",
        "* Variables are containers for storing data values.\n",
        "\n",
        "* Creating Variables\n",
        "* Python has no command for declaring a variable.\n",
        "\n",
        "*A variable is created the moment you first assign a value to it."
      ]
    },
    {
      "cell_type": "code",
      "metadata": {
        "colab": {
          "base_uri": "https://localhost:8080/"
        },
        "id": "cPafz_SXt7QC",
        "outputId": "6d739b20-f146-4a60-d914-f6937fab5694"
      },
      "source": [
        "x = 5\n",
        "y = \"John\"\n",
        "print(x)\n",
        "print(y)"
      ],
      "execution_count": null,
      "outputs": [
        {
          "output_type": "stream",
          "text": [
            "5\n",
            "John\n"
          ],
          "name": "stdout"
        }
      ]
    },
    {
      "cell_type": "code",
      "metadata": {
        "colab": {
          "base_uri": "https://localhost:8080/"
        },
        "id": "ck2ytntYwAtn",
        "outputId": "318b77aa-f6b2-4f7e-f043-3bad24a67495"
      },
      "source": [
        "#2nd example \n",
        "print(\"Hi\")\n",
        "# Variable in Python:\n",
        "# abc = \"It's a string variable\"\n",
        "# abcnum = 40 # It is an example of int variable\n",
        "# abc123 = 55.854 # It is an example of float variable\n",
        "# print(abcnum + abc123) # This will give sum of 40 + 55.854\n",
        "# print(type(abc))\n",
        "# print(abc)\n",
        "# num1=23\n",
        "# num2=55\n",
        "# print(int(num1)+int(num2))\n",
        "\n",
        "'''\n",
        "quiz1 : \n",
        "# '''\n",
        "# AB= input(\"Enter number :\")\n",
        "# print(AB)\n",
        "print(\"calculator\")\n",
        "#for user input 1 code\n",
        "x=input(\"enter num1:\")   #x=int(input(\"enter num1:\"))  can use like this \n",
        "x=int(x)\n",
        "# user input 2 code \n",
        "y=input(\"enter num2:\")   #y=int(input(\"enter num2:\"))  can use like this \n",
        "y=int(y)\n",
        "# calculation  code \n",
        "z = x+y\n",
        "print(\"Answer is :\", z)"
      ],
      "execution_count": null,
      "outputs": [
        {
          "output_type": "stream",
          "text": [
            "Hi\n",
            "calculator\n",
            "enter num1:45679\n",
            "enter num2:4789\n",
            "Answer is : 50468\n"
          ],
          "name": "stdout"
        }
      ]
    },
    {
      "cell_type": "markdown",
      "metadata": {
        "id": "vi8JbupeE2zK"
      },
      "source": [
        "[Click me: for more about python intro](https://youtu.be/3dy_PYF9xOI)"
      ]
    },
    {
      "cell_type": "markdown",
      "metadata": {
        "id": "-yxKZrUdw6hK"
      },
      "source": [
        "# Python - Variable Names\n",
        "* Variable Names\n",
        "* A variable can have a short name (like x and y) or a more descriptive name (age, carname, total_volume). Rules for Python variables:\n",
        "* A variable name must start with a letter or the underscore character\n",
        "* A variable name cannot start with a number\n",
        "* A variable name can only contain alpha-numeric characters and underscores (A-z, 0-9, and _ )\n",
        "* Variable names are case-sensitive (age, Age and AGE are three different variables)\n"
      ]
    },
    {
      "cell_type": "code",
      "metadata": {
        "id": "w-4lwpzxxF8L"
      },
      "source": [
        "#example\n",
        "myvar = \"John\"\n",
        "my_var = \"John\"\n",
        "_my_var = \"John\"\n",
        "myVar = \"John\"\n",
        "MYVAR = \"John\"\n",
        "myvar2 = \"John\""
      ],
      "execution_count": null,
      "outputs": []
    },
    {
      "cell_type": "code",
      "metadata": {
        "colab": {
          "base_uri": "https://localhost:8080/"
        },
        "id": "lgsuztHJxiqY",
        "outputId": "6bceb694-ccc0-47dd-d766-a2389363507b"
      },
      "source": [
        "#Remember that variable names are case-sensitive\n",
        "\n",
        "#Multi Words Variable Names\n",
        "#Variable names with more than one word can be difficult to read.\n",
        "\n",
        "#There are several techniques you can use to make them more readable:\n",
        "\n",
        "#Camel Case\n",
        "#Each word, except the first, starts with a capital letter:\n",
        "myVariableName = \"John\"\n",
        "print(myVariableName)\n",
        "\n",
        "#Pascal Case\n",
        "#Each word starts with a capital letter:\n",
        "MyVariableName = \"John\"\n",
        "print(MyVariableName)\n",
        "\n",
        "#Snake Case\n",
        "#Each word is separated by an underscore character:\n",
        "my_variable_name = \"John\"\n",
        "print(my_variable_name)"
      ],
      "execution_count": null,
      "outputs": [
        {
          "output_type": "stream",
          "text": [
            "John\n",
            "John\n",
            "John\n"
          ],
          "name": "stdout"
        }
      ]
    },
    {
      "cell_type": "markdown",
      "metadata": {
        "id": "6GVC-fW6ydDE"
      },
      "source": [
        "# Python Variables - Assign Multiple Values"
      ]
    },
    {
      "cell_type": "code",
      "metadata": {
        "colab": {
          "base_uri": "https://localhost:8080/"
        },
        "id": "q4pEtwsqyg6n",
        "outputId": "fbd419f0-57f3-49be-f649-364ee144b520"
      },
      "source": [
        "x, y, z = \"Orange\", \"Banana\", \"Cherry\"\n",
        "print(x)\n",
        "print(y)\n",
        "print(z)"
      ],
      "execution_count": null,
      "outputs": [
        {
          "output_type": "stream",
          "text": [
            "Orange\n",
            "Banana\n",
            "Cherry\n"
          ],
          "name": "stdout"
        }
      ]
    },
    {
      "cell_type": "code",
      "metadata": {
        "colab": {
          "base_uri": "https://localhost:8080/"
        },
        "id": "0gW9WMYJyqdf",
        "outputId": "e67c97ec-0fd3-48b3-cd61-2e061a484313"
      },
      "source": [
        "x = y = z = \"Orange\"\n",
        "\n",
        "print(x)\n",
        "print(y)\n",
        "print(z)\n"
      ],
      "execution_count": null,
      "outputs": [
        {
          "output_type": "stream",
          "text": [
            "Orange\n",
            "Orange\n",
            "Orange\n"
          ],
          "name": "stdout"
        }
      ]
    },
    {
      "cell_type": "markdown",
      "metadata": {
        "id": "iX4hmN9eywdO"
      },
      "source": [
        "# Unpack a Collection\n",
        "* If you have a collection of values in a list, tuple etc. Python allows you extract the values into variables. \n",
        "* This is called unpacking."
      ]
    },
    {
      "cell_type": "code",
      "metadata": {
        "id": "lfqNCB2Cy5VW"
      },
      "source": [
        "fruits = [\"apple\", \"banana\", \"cherry\"]\n",
        "x, y, z = fruits\n",
        "print(x)\n",
        "print(y)\n",
        "print(z)"
      ],
      "execution_count": null,
      "outputs": []
    },
    {
      "cell_type": "markdown",
      "metadata": {
        "id": "DvPxNH22zHjO"
      },
      "source": [
        "# Python - Output Variables"
      ]
    },
    {
      "cell_type": "code",
      "metadata": {
        "colab": {
          "base_uri": "https://localhost:8080/"
        },
        "id": "KI8L9mdrzAYl",
        "outputId": "f4564a45-48b3-4784-8047-adcb5c272be7"
      },
      "source": [
        "'''Python - Output Variables\n",
        "Output Variables\n",
        "The Python print statement is often used to output variables.\n",
        "\n",
        "To combine both text and a variable, Python uses the + character:'''\n",
        "\n",
        "#Example\n",
        "x = \"awesome\"\n",
        "print(\"Python is \" + x)"
      ],
      "execution_count": null,
      "outputs": [
        {
          "output_type": "stream",
          "text": [
            "Python is awesome\n"
          ],
          "name": "stdout"
        }
      ]
    },
    {
      "cell_type": "markdown",
      "metadata": {
        "id": "4IdQgivCzU2P"
      },
      "source": [
        "# Python - Global Variables\n",
        "* Global Variables\n",
        "* Variables that are created outside of a function (as in all of the examples above) are known as global variables.\n",
        "\n",
        "* Global variables can be used by everyone, both inside of functions and outside.\n"
      ]
    },
    {
      "cell_type": "code",
      "metadata": {
        "colab": {
          "base_uri": "https://localhost:8080/"
        },
        "id": "fbHqK3eRzb3p",
        "outputId": "cd959f1c-bf49-440b-c800-bf4754baead9"
      },
      "source": [
        "x = \"awesome\"\n",
        "\n",
        "def myfunc():\n",
        "  print(\"Python is \" + x)\n",
        "\n",
        "myfunc()\n"
      ],
      "execution_count": null,
      "outputs": [
        {
          "output_type": "stream",
          "text": [
            "Python is awesome\n"
          ],
          "name": "stdout"
        }
      ]
    },
    {
      "cell_type": "markdown",
      "metadata": {
        "id": "Kehc-JhczmLh"
      },
      "source": [
        "# Python Data Types\n",
        "* Built-in Data Types\n",
        "* In programming, data type is an important concept.\n",
        "\n",
        "* Variables can store data of different types, and different types can do different things.\n",
        "\n",
        "Python has the following data types built-in by default, in these categories:\n"
      ]
    },
    {
      "cell_type": "code",
      "metadata": {
        "id": "biHzo3Fxz3Vy"
      },
      "source": [
        "#Text Type:\tstr\n",
        "# Numeric Types:\tint, float, complex\n",
        "# Sequence Types:\tlist, tuple, range\n",
        "# Mapping Type:\tdict\n",
        "# Set Types:\tset, frozenset\n",
        "# Boolean Type:\tbool\n",
        "# Binary Types:\tbytes, bytearray, memoryview"
      ],
      "execution_count": null,
      "outputs": []
    },
    {
      "cell_type": "code",
      "metadata": {
        "id": "sKfGJOCb0JEm"
      },
      "source": [
        "\"\"\" \n",
        "Python Numbers\n",
        "Python Numbers\n",
        "There are three numeric types in Python:\n",
        "int\n",
        "float\n",
        "complex\n",
        "\"\"\""
      ],
      "execution_count": null,
      "outputs": []
    },
    {
      "cell_type": "code",
      "metadata": {
        "id": "AVSRhOrT0SJD"
      },
      "source": [
        "x = 1    # int\n",
        "y = 2.8  # float\n",
        "z = 1j   # complex"
      ],
      "execution_count": null,
      "outputs": []
    },
    {
      "cell_type": "code",
      "metadata": {
        "colab": {
          "base_uri": "https://localhost:8080/"
        },
        "id": "GzdonxDz0X_Q",
        "outputId": "b1932354-de50-4471-aba3-416855056e37"
      },
      "source": [
        "x = 1\n",
        "y = 35656222554887711\n",
        "z = -3255522\n",
        "\n",
        "print(type(x))\n",
        "print(type(y))\n",
        "print(type(z))"
      ],
      "execution_count": null,
      "outputs": [
        {
          "output_type": "stream",
          "text": [
            "<class 'int'>\n",
            "<class 'int'>\n",
            "<class 'int'>\n"
          ],
          "name": "stdout"
        }
      ]
    },
    {
      "cell_type": "code",
      "metadata": {
        "colab": {
          "base_uri": "https://localhost:8080/"
        },
        "id": "MRIXrFR30c-M",
        "outputId": "ffbbb00a-aabe-4660-c8d9-45594b60fbf8"
      },
      "source": [
        "'''Float\n",
        "Float, or \"floating point number\" is a number, positive or negative, containing one or more decimals.\n",
        "\n",
        "Example\n",
        "Floats:\n",
        "'''\n",
        "x = 1.10\n",
        "y = 1.0\n",
        "z = -35.59\n",
        "\n",
        "print(type(x))\n",
        "print(type(y))\n",
        "print(type(z))"
      ],
      "execution_count": null,
      "outputs": [
        {
          "output_type": "stream",
          "text": [
            "<class 'float'>\n",
            "<class 'float'>\n",
            "<class 'float'>\n"
          ],
          "name": "stdout"
        }
      ]
    },
    {
      "cell_type": "code",
      "metadata": {
        "colab": {
          "base_uri": "https://localhost:8080/"
        },
        "id": "GWLht0Op0ous",
        "outputId": "07aae8e3-8e5b-4f78-963a-ab9c1f9fe234"
      },
      "source": [
        "'''Float can also be scientific numbers with an \"e\" to indicate the power of 10.\n",
        "\n",
        "Example\n",
        "Floats:'''\n",
        "\n",
        "x = 35e3\n",
        "y = 12E4\n",
        "z = -87.7e100\n",
        "\n",
        "print(type(x))\n",
        "print(type(y))\n",
        "print(type(z))"
      ],
      "execution_count": null,
      "outputs": [
        {
          "output_type": "stream",
          "text": [
            "<class 'float'>\n",
            "<class 'float'>\n",
            "<class 'float'>\n"
          ],
          "name": "stdout"
        }
      ]
    },
    {
      "cell_type": "code",
      "metadata": {
        "colab": {
          "base_uri": "https://localhost:8080/"
        },
        "id": "FTyG6yfG0wUO",
        "outputId": "22c4b1fa-a295-453b-9731-6f055430c36b"
      },
      "source": [
        "\"\"\"Complex\n",
        "Complex numbers are written with a \"j\" as the imaginary part:\n",
        "\n",
        "Example\n",
        "Complex:\n",
        "\"\"\"\n",
        "x = 3+5j\n",
        "y = 5j\n",
        "z = -5j\n",
        "\n",
        "print(type(x))\n",
        "print(type(y))\n",
        "print(type(z))"
      ],
      "execution_count": null,
      "outputs": [
        {
          "output_type": "stream",
          "text": [
            "<class 'complex'>\n",
            "<class 'complex'>\n",
            "<class 'complex'>\n"
          ],
          "name": "stdout"
        }
      ]
    },
    {
      "cell_type": "markdown",
      "metadata": {
        "id": "I99MqZq2wsSZ"
      },
      "source": [
        "# String "
      ]
    },
    {
      "cell_type": "code",
      "metadata": {
        "id": "xr8Lk0dzwwSj"
      },
      "source": [
        "  # String Functions:\n",
        "demo = \"Aman is a good boy\" \n",
        "print(demo.endswith(\"boy\"))\n",
        "print(demo.count('o'))\n",
        "print(demo.capitalize())\n",
        "print(demo.upper())\n",
        "print(demo.lower())\n",
        "print(demo.find(\"is\"))\n",
        "print(demo.replace(\"good\",\"nice\"))\n",
        "# print(demo)\n",
        "# print(\"aman\")\n",
        "print(\"Half printed =>\",demo[0:5])\n",
        "mystr = \"Harry is a good boy\"\n",
        "# print(len(mystr))\n",
        "# print(mystr[::-2])\n",
        "\n",
        "print(mystr.endswith(\"bdoy\"))\n",
        "print(mystr.count(\"o\"))\n",
        "print(mystr.capitalize())\n",
        "print(mystr.replace(\"is\", \"are\"))\n",
        "\n",
        "#9\n",
        "#9\n",
        "#9"
      ],
      "execution_count": null,
      "outputs": []
    }
  ]
}