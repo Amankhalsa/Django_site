{
  "nbformat": 4,
  "nbformat_minor": 0,
  "metadata": {
    "colab": {
      "name": "intro.ipynb",
      "provenance": [],
      "collapsed_sections": [],
      "authorship_tag": "ABX9TyMWjeDyRg2YmsclyDXC+u3q",
      "include_colab_link": true
    },
    "kernelspec": {
      "name": "python3",
      "display_name": "Python 3"
    },
    "language_info": {
      "name": "python"
    }
  },
  "cells": [
    {
      "cell_type": "markdown",
      "metadata": {
        "id": "view-in-github",
        "colab_type": "text"
      },
      "source": [
        "<a href=\"https://colab.research.google.com/github/Amankhalsa/intro_python/blob/main/intro.ipynb\" target=\"_parent\"><img src=\"https://colab.research.google.com/assets/colab-badge.svg\" alt=\"Open In Colab\"/></a>"
      ]
    },
    {
      "cell_type": "code",
      "metadata": {
        "colab": {
          "base_uri": "https://localhost:8080/"
        },
        "id": "1i-IrBEdQSb0",
        "outputId": "6e35e64e-02b7-4329-b87b-55f40cf00e42"
      },
      "source": [
        "# a=9 //a is variable 9 is value of variable\n",
        "# b=5\n",
        "# c=a+b\n",
        "# print(c)\n",
        "print(\"hello\")\n",
        "list =[1,2,3,4,5] #this is a list \n",
        "print(list)\n",
        "my_tup=(1,\"a\",2,\"b\",3) #tuple\n",
        "print(my_tup)\n",
        "my_dict={\"name\":\"john\",\"age\":28} #dictonary\n",
        "print(my_dict)\n",
        "my_set={1,2,3,2,1,4,3,2,5,7} #set \n",
        "print(\"Printed order wise no duplicate \",my_set)"
      ],
      "execution_count": 18,
      "outputs": [
        {
          "output_type": "stream",
          "text": [
            "hello\n",
            "[1, 2, 3, 4, 5]\n",
            "(1, 'a', 2, 'b', 3)\n",
            "{'name': 'john', 'age': 28}\n",
            "Printed order wise no duplicate  {1, 2, 3, 4, 5, 7}\n"
          ],
          "name": "stdout"
        }
      ]
    }
  ]
}